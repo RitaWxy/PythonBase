{
 "cells": [
  {
   "cell_type": "markdown",
   "metadata": {},
   "source": [
    "# 注释"
   ]
  },
  {
   "cell_type": "raw",
   "metadata": {},
   "source": [
    "'''aaa''' 或 \"\"\"aaa\"\"\" 或 #aaa\n",
    "(多行注释：单引号或双引号)"
   ]
  },
  {
   "cell_type": "markdown",
   "metadata": {},
   "source": [
    "# Python变量"
   ]
  },
  {
   "cell_type": "code",
   "execution_count": 4,
   "metadata": {},
   "outputs": [],
   "source": [
    "a = 3 #赋值"
   ]
  },
  {
   "cell_type": "code",
   "execution_count": 6,
   "metadata": {},
   "outputs": [],
   "source": [
    "a,b = 1,2 #多变量赋值,一一对应"
   ]
  },
  {
   "cell_type": "code",
   "execution_count": 12,
   "metadata": {},
   "outputs": [],
   "source": [
    "a = b = c = 4"
   ]
  },
  {
   "cell_type": "code",
   "execution_count": 10,
   "metadata": {},
   "outputs": [
    {
     "data": {
      "text/plain": [
       "4"
      ]
     },
     "execution_count": 10,
     "metadata": {},
     "output_type": "execute_result"
    }
   ],
   "source": [
    "a"
   ]
  },
  {
   "cell_type": "code",
   "execution_count": 11,
   "metadata": {},
   "outputs": [
    {
     "data": {
      "text/plain": [
       "4"
      ]
     },
     "execution_count": 11,
     "metadata": {},
     "output_type": "execute_result"
    }
   ],
   "source": [
    "b"
   ]
  },
  {
   "cell_type": "markdown",
   "metadata": {},
   "source": [
    "# Python数据类型（具体见PythonBase3）"
   ]
  },
  {
   "cell_type": "code",
   "execution_count": 14,
   "metadata": {},
   "outputs": [
    {
     "data": {
      "text/plain": [
       "str"
      ]
     },
     "execution_count": 14,
     "metadata": {},
     "output_type": "execute_result"
    }
   ],
   "source": [
    "type('6') #查数据类型"
   ]
  },
  {
   "cell_type": "code",
   "execution_count": 21,
   "metadata": {
    "scrolled": true
   },
   "outputs": [
    {
     "data": {
      "text/plain": [
       "\"\\nint('6')\\nstr(78)\\nfloat(6)\\nchr()\\ntuple()\\nlist()\\n……\\n\""
      ]
     },
     "execution_count": 21,
     "metadata": {},
     "output_type": "execute_result"
    }
   ],
   "source": [
    "# 数据类型转化\n",
    "'''\n",
    "int('6')\n",
    "str(78)\n",
    "float(6)\n",
    "chr()\n",
    "tuple()\n",
    "list()\n",
    "……\n",
    "'''"
   ]
  },
  {
   "cell_type": "code",
   "execution_count": 19,
   "metadata": {},
   "outputs": [
    {
     "name": "stdout",
     "output_type": "stream",
     "text": [
      "Please input your score:98\n",
      "<class 'str'>\n"
     ]
    }
   ],
   "source": [
    "# input() 输出字符串\n",
    "score = input('Please input your score:')\n",
    "print(type(score))\n"
   ]
  },
  {
   "cell_type": "code",
   "execution_count": null,
   "metadata": {},
   "outputs": [],
   "source": [
    "# 动态类型/静态类型（类型是运行/编译的时候确定的，可以动态修改/后期无法修改）\n",
    "‘‘‘\n",
    "例如c语言 int a=10, a就是整数型，编译过程不能改类型\n",
    "python则是动态的：\n",
    "  score='123'\n",
    "  score = 123\n",
    "\n",
    "’’’\n",
    "\n",
    "# 强类型/弱类型 （类型比较强势，不轻易随环境变化而变化）\n",
    "'''\n",
    "print('score'+1)会报错\n",
    "\n",
    "*python是强类型动态语言\n",
    "'''\n"
   ]
  },
  {
   "cell_type": "code",
   "execution_count": null,
   "metadata": {},
   "outputs": [],
   "source": [
    "'''\n",
    "1.数值类型 int/float/long/complex\n",
    "\n",
    "2.布尔类型 true/false\n",
    "\n",
    "3.字符串'string'\n",
    "\n",
    "4.列表 list\n",
    "\n",
    "5.集合 set\n",
    "\n",
    "6.元组 truple\n",
    "\n",
    "7.字典 dictionary\n",
    "\n",
    "8.空类型 NoneType\n",
    "'''\n"
   ]
  },
  {
   "cell_type": "markdown",
   "metadata": {},
   "source": [
    "# Python运算符"
   ]
  },
  {
   "cell_type": "markdown",
   "metadata": {},
   "source": [
    "## 算术运算符"
   ]
  },
  {
   "cell_type": "code",
   "execution_count": 29,
   "metadata": {},
   "outputs": [
    {
     "data": {
      "text/plain": [
       "2.6"
      ]
     },
     "execution_count": 29,
     "metadata": {},
     "output_type": "execute_result"
    }
   ],
   "source": [
    "# 加减乘除(+  -  *  /)\n",
    "5.2/2 "
   ]
  },
  {
   "cell_type": "code",
   "execution_count": 25,
   "metadata": {},
   "outputs": [
    {
     "name": "stdout",
     "output_type": "stream",
     "text": [
      "18\n",
      "9\n",
      "[1, 2, 3, 4]\n"
     ]
    }
   ],
   "source": [
    "print('1'+'8') # 加号的含义\n",
    "print(1 + 8)\n",
    "print([1,2]+[3,4])"
   ]
  },
  {
   "cell_type": "code",
   "execution_count": 26,
   "metadata": {},
   "outputs": [
    {
     "data": {
      "text/plain": [
       "81"
      ]
     },
     "execution_count": 26,
     "metadata": {},
     "output_type": "execute_result"
    }
   ],
   "source": [
    "# 幂运算\n",
    "3 ** 4"
   ]
  },
  {
   "cell_type": "code",
   "execution_count": 30,
   "metadata": {},
   "outputs": [
    {
     "data": {
      "text/plain": [
       "2.0"
      ]
     },
     "execution_count": 30,
     "metadata": {},
     "output_type": "execute_result"
    }
   ],
   "source": [
    "# 整除(直接取整)\n",
    "5.2 // 2"
   ]
  },
  {
   "cell_type": "code",
   "execution_count": 33,
   "metadata": {},
   "outputs": [
    {
     "data": {
      "text/plain": [
       "1"
      ]
     },
     "execution_count": 33,
     "metadata": {},
     "output_type": "execute_result"
    }
   ],
   "source": [
    "# 求模运算（求余数）\n",
    "5 % 2"
   ]
  },
  {
   "cell_type": "code",
   "execution_count": 2,
   "metadata": {},
   "outputs": [
    {
     "data": {
      "text/plain": [
       "(2, 1)"
      ]
     },
     "execution_count": 2,
     "metadata": {},
     "output_type": "execute_result"
    }
   ],
   "source": [
    "# 内建函数返回商和余数 divmod\n",
    "divmod(5,2)"
   ]
  },
  {
   "cell_type": "code",
   "execution_count": 36,
   "metadata": {},
   "outputs": [
    {
     "name": "stdout",
     "output_type": "stream",
     "text": [
      "6在第1行，第2列\n"
     ]
    }
   ],
   "source": [
    "## 整除和求余的应用场景，如求行和列\n",
    "'''\n",
    "0 1 2 3 第0行\n",
    "4 5 6 7 第一行\n",
    "8 9     第二行\n",
    "'''\n",
    "num = 6\n",
    "row = num // 4 # 一行4个数\n",
    "col = num % 4\n",
    "print('6在第'+str(row)+'行，第'+str(col)+'列')"
   ]
  },
  {
   "cell_type": "code",
   "execution_count": 3,
   "metadata": {},
   "outputs": [
    {
     "data": {
      "text/plain": [
       "1.235"
      ]
     },
     "execution_count": 3,
     "metadata": {},
     "output_type": "execute_result"
    }
   ],
   "source": [
    "# 四舍五入\n",
    "round(1.23469,3)"
   ]
  },
  {
   "cell_type": "markdown",
   "metadata": {
    "heading_collapsed": true
   },
   "source": [
    "## 赋值运算符"
   ]
  },
  {
   "cell_type": "code",
   "execution_count": 37,
   "metadata": {
    "hidden": true
   },
   "outputs": [],
   "source": [
    "# 见第二部分 Python变量"
   ]
  },
  {
   "cell_type": "markdown",
   "metadata": {},
   "source": [
    "## 复合运算符"
   ]
  },
  {
   "cell_type": "code",
   "execution_count": 44,
   "metadata": {},
   "outputs": [
    {
     "name": "stdout",
     "output_type": "stream",
     "text": [
      "1\n"
     ]
    }
   ],
   "source": [
    "# +=  *=  -= %= **= //= 即 算术运算符=\n",
    "num = 11\n",
    "num %= 2 # num =num%5\n",
    "print(num)"
   ]
  },
  {
   "cell_type": "markdown",
   "metadata": {},
   "source": [
    "## 比较运算符"
   ]
  },
  {
   "cell_type": "code",
   "execution_count": 50,
   "metadata": {},
   "outputs": [
    {
     "name": "stdout",
     "output_type": "stream",
     "text": [
      "4437603760 4437603760 True True\n",
      "True False\n"
     ]
    }
   ],
   "source": [
    "# 返回布尔型，true/false\n",
    "\n",
    "'''\n",
    "> < != >= <= is(is not) in(not in)\n",
    "'''\n",
    "# is 比较的是标识\n",
    "num1 = 10\n",
    "num2 = 10\n",
    "print(id(num1),id(num2),num1 == num2,num1 is num2)\n",
    "\n",
    "a = [1]\n",
    "b = [1]\n",
    "print(a == b, a is b)"
   ]
  },
  {
   "cell_type": "code",
   "execution_count": 52,
   "metadata": {},
   "outputs": [
    {
     "name": "stdout",
     "output_type": "stream",
     "text": [
      "False\n"
     ]
    }
   ],
   "source": [
    "# 链式比较运算符\n",
    "num = 1\n",
    "print(5<num<20)"
   ]
  },
  {
   "cell_type": "markdown",
   "metadata": {},
   "source": [
    "## 逻辑运算符"
   ]
  },
  {
   "cell_type": "code",
   "execution_count": 55,
   "metadata": {},
   "outputs": [
    {
     "name": "stdout",
     "output_type": "stream",
     "text": [
      "False\n",
      "False True\n"
     ]
    }
   ],
   "source": [
    "# not 非，取反， and 与， or 或 \n",
    "a = True\n",
    "print(not a)\n",
    "\n",
    "b = 5\n",
    "print(b<10 and b>6, b>2 or b<0)\n"
   ]
  },
  {
   "cell_type": "code",
   "execution_count": 60,
   "metadata": {},
   "outputs": [
    {
     "name": "stdout",
     "output_type": "stream",
     "text": [
      "1\n",
      "0\n",
      "3\n",
      "False\n"
     ]
    }
   ],
   "source": [
    "print(1 or False) # 结果不一定是true/false\n",
    "print(0 and True) # 执行到0就不往后，返回值\n",
    "print(1 and 3)\n",
    "print(0 or False)"
   ]
  },
  {
   "cell_type": "code",
   "execution_count": 71,
   "metadata": {},
   "outputs": [
    {
     "name": "stdout",
     "output_type": "stream",
     "text": [
      "True False\n",
      "True False\n"
     ]
    }
   ],
   "source": [
    "print(bool(1),bool(0)) # 非0即真\n",
    "print(bool('0'),bool('')) # 非空即真"
   ]
  },
  {
   "cell_type": "markdown",
   "metadata": {},
   "source": [
    "# 输入输出"
   ]
  },
  {
   "cell_type": "code",
   "execution_count": 61,
   "metadata": {},
   "outputs": [
    {
     "data": {
      "text/plain": [
       "'\\n处理数据的程序：\\n1.数据来源\\n① 程序内 如num=10\\n② 从文件读取 .txt\\n③ 从网络服务器获取\\n④ 用户输入\\n2.处理数据\\n3.数据输出\\n① 写回文件保存\\n② 保存到服务器\\n③ 打印到控制台，通关界面展示给用户\\n'"
      ]
     },
     "execution_count": 61,
     "metadata": {},
     "output_type": "execute_result"
    }
   ],
   "source": [
    "'''\n",
    "处理数据的程序：\n",
    "1.数据来源\n",
    "① 程序内 如num=10\n",
    "② 从文件读取 .txt\n",
    "③ 从网络服务器获取\n",
    "④ 用户输入\n",
    "2.处理数据\n",
    "3.数据输出\n",
    "① 写回文件保存\n",
    "② 保存到服务器\n",
    "③ 打印到控制台，通关界面展示给用户\n",
    "'''"
   ]
  },
  {
   "cell_type": "markdown",
   "metadata": {},
   "source": [
    "## 输入"
   ]
  },
  {
   "cell_type": "code",
   "execution_count": 67,
   "metadata": {},
   "outputs": [
    {
     "name": "stdout",
     "output_type": "stream",
     "text": [
      "Please input your contentabc\n",
      "abc <class 'str'>\n"
     ]
    }
   ],
   "source": [
    "content = input('Please input your content') # 输入内容是字符串\n",
    "print(content,type(content))"
   ]
  },
  {
   "cell_type": "code",
   "execution_count": 68,
   "metadata": {},
   "outputs": [
    {
     "ename": "NameError",
     "evalue": "name 'abc' is not defined",
     "output_type": "error",
     "traceback": [
      "\u001b[0;31m---------------------------------------------------------------------------\u001b[0m",
      "\u001b[0;31mNameError\u001b[0m                                 Traceback (most recent call last)",
      "\u001b[0;32m<ipython-input-68-3ba02acc8f79>\u001b[0m in \u001b[0;36m<module>\u001b[0;34m\u001b[0m\n\u001b[1;32m      1\u001b[0m \u001b[0;31m# eval()\u001b[0m\u001b[0;34m\u001b[0m\u001b[0;34m\u001b[0m\u001b[0;34m\u001b[0m\u001b[0m\n\u001b[0;32m----> 2\u001b[0;31m \u001b[0mresult\u001b[0m \u001b[0;34m=\u001b[0m \u001b[0meval\u001b[0m\u001b[0;34m(\u001b[0m\u001b[0mcontent\u001b[0m\u001b[0;34m)\u001b[0m\u001b[0;34m\u001b[0m\u001b[0;34m\u001b[0m\u001b[0m\n\u001b[0m\u001b[1;32m      3\u001b[0m \u001b[0mprint\u001b[0m\u001b[0;34m(\u001b[0m\u001b[0mresult\u001b[0m\u001b[0;34m,\u001b[0m\u001b[0mtype\u001b[0m\u001b[0;34m(\u001b[0m\u001b[0mresult\u001b[0m\u001b[0;34m)\u001b[0m\u001b[0;34m)\u001b[0m\u001b[0;34m\u001b[0m\u001b[0;34m\u001b[0m\u001b[0m\n",
      "\u001b[0;32m<string>\u001b[0m in \u001b[0;36m<module>\u001b[0;34m\u001b[0m\n",
      "\u001b[0;31mNameError\u001b[0m: name 'abc' is not defined"
     ]
    }
   ],
   "source": [
    "# eval() 用户输入的东西当成代码运行\n",
    "result = eval(content)\n",
    "print(result,type(result))"
   ]
  },
  {
   "cell_type": "markdown",
   "metadata": {},
   "source": [
    "## 输出"
   ]
  },
  {
   "cell_type": "code",
   "execution_count": 69,
   "metadata": {},
   "outputs": [
    {
     "name": "stdout",
     "output_type": "stream",
     "text": [
      "Help on built-in function print in module builtins:\n",
      "\n",
      "print(...)\n",
      "    print(value, ..., sep=' ', end='\\n', file=sys.stdout, flush=False)\n",
      "    \n",
      "    Prints the values to a stream, or to sys.stdout by default.\n",
      "    Optional keyword arguments:\n",
      "    file:  a file-like object (stream); defaults to the current sys.stdout.\n",
      "    sep:   string inserted between values, default a space.\n",
      "    end:   string appended after the last value, default a newline.\n",
      "    flush: whether to forcibly flush the stream.\n",
      "\n"
     ]
    }
   ],
   "source": [
    "# print(values,sep,end,file,flush)\n",
    "help(print)\n",
    "'''\n",
    "sep:分隔符，多个输出中间以什么分开\n",
    "end：输出完毕之后的结尾\n",
    "file：输出目标，默认标准输出（控制台）\n",
    "flush：表示立即输出，bool值\n",
    "'''"
   ]
  },
  {
   "cell_type": "code",
   "execution_count": null,
   "metadata": {},
   "outputs": [],
   "source": [
    "# 输出一个值\n",
    "print(123)\n",
    "\n",
    "# 输出一个/多个变量\n",
    "num1 = 20\n",
    "num2 =55\n",
    "print(num1,num2)\n",
    "\n",
    "# 格式化输出\n",
    "name = 'wxy'\n",
    "age = 24\n",
    "print('My name is {}. My age is {}.'.format(name,age))\n",
    "\n",
    "# 输出到文件\n",
    "f = open(\"test.txt\",\"w\") # 先打开文件\n",
    "print('aaaa',file = f)\n",
    "   # 默认情况下\n",
    "   # import sys\n",
    "   # print('aaaa',file = sys.stdout)\n",
    "    \n",
    "# 输出不自动换行,使用分隔符\n",
    "print('a','b','c',sep = '=',end = '*')\n",
    "\n",
    "# flush参数说明\n",
    "import sys\n",
    "from time import sleep \n",
    "print('input your id',end = '') # 如果有换行 则会立刻打印，否则停5秒\n",
    "sleep(5)\n",
    "\n",
    "#\n",
    "import sys\n",
    "from time import sleep \n",
    "print('input your id',end = ''，flush=True) # 加了flash则不管结尾是什么都立马打印\n",
    "sleep(5)\n"
   ]
  },
  {
   "cell_type": "code",
   "execution_count": 1,
   "metadata": {},
   "outputs": [
    {
     "name": "stdout",
     "output_type": "stream",
     "text": [
      "input your id"
     ]
    }
   ],
   "source": [
    "import sys\n",
    "from time import sleep \n",
    "print('input your id',end = '')\n",
    "sleep(10)"
   ]
  },
  {
   "cell_type": "markdown",
   "metadata": {},
   "source": [
    "# 阶段小结练习"
   ]
  },
  {
   "cell_type": "code",
   "execution_count": 15,
   "metadata": {},
   "outputs": [
    {
     "name": "stdout",
     "output_type": "stream",
     "text": [
      "Please input your gender (male:1, female:0):0\n",
      "Please input your height in (m):1.6\n",
      "Please input your weight in (kg):53\n",
      "Please input your age:24\n",
      "Whether your bod fat rate is normal: False\n"
     ]
    }
   ],
   "source": [
    "# 小结——体脂率分析\n",
    "gender = input('Please input your gender (male:1, female:0):') # input gender\n",
    "height = input('Please input your height in (m):') # input height\n",
    "weight = input('Please input your weight in (kg):') # input weight\n",
    "age = input('Please input your age:') # input age\n",
    "\n",
    "# calculat body fat rate\n",
    "BMI = float(weight)/(float(height))**2\n",
    "FatRate = 1.2*BMI + 0.23*int(age) - 5.4 - 10.8*int(gender)\n",
    "\n",
    "\n",
    "if int(gender):\n",
    "    if 0.15<=FatRate<=0.18:\n",
    "        result = True\n",
    "    else:\n",
    "        result = False\n",
    "else:\n",
    "    if 0.25<=FatRate<=0.28:\n",
    "        result = True\n",
    "    else:\n",
    "        result = False\n",
    "\n",
    "'''\n",
    "minNum = 0.15 + 0.1*(1-int(gender))\n",
    "maxNum = 0.18 + 0.1*(1-int(gender))\n",
    "result = minNum <= FatRate <= maxNum\n",
    "'''\n",
    "\n",
    "print('Whether your bod fat rate is normal:',result)\n",
    "            "
   ]
  },
  {
   "cell_type": "code",
   "execution_count": 16,
   "metadata": {},
   "outputs": [
    {
     "data": {
      "text/plain": [
       "24.963749999999997"
      ]
     },
     "execution_count": 16,
     "metadata": {},
     "output_type": "execute_result"
    }
   ],
   "source": [
    "FatRate"
   ]
  },
  {
   "cell_type": "code",
   "execution_count": null,
   "metadata": {},
   "outputs": [],
   "source": []
  }
 ],
 "metadata": {
  "kernelspec": {
   "display_name": "Python 3",
   "language": "python",
   "name": "python3"
  },
  "language_info": {
   "codemirror_mode": {
    "name": "ipython",
    "version": 3
   },
   "file_extension": ".py",
   "mimetype": "text/x-python",
   "name": "python",
   "nbconvert_exporter": "python",
   "pygments_lexer": "ipython3",
   "version": "3.7.4"
  },
  "toc": {
   "base_numbering": 1,
   "nav_menu": {},
   "number_sections": true,
   "sideBar": true,
   "skip_h1_title": false,
   "title_cell": "Table of Contents",
   "title_sidebar": "Contents",
   "toc_cell": false,
   "toc_position": {},
   "toc_section_display": true,
   "toc_window_display": true
  }
 },
 "nbformat": 4,
 "nbformat_minor": 2
}
