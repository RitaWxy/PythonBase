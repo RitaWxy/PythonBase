{
 "cells": [
  {
   "cell_type": "markdown",
   "metadata": {
    "heading_collapsed": true
   },
   "source": [
    "# 定义"
   ]
  },
  {
   "cell_type": "markdown",
   "metadata": {
    "hidden": true
   },
   "source": [
    "```Python\n",
    "内建函数\n",
    "三方函数\n",
    "自定义函数\n",
    "```"
   ]
  },
  {
   "cell_type": "code",
   "execution_count": null,
   "metadata": {
    "hidden": true
   },
   "outputs": [],
   "source": [
    "'''\n",
    "def 函数名(参数名1,参数名2,...): # 参数名(形参)、返回值可无\n",
    "    函数体 # 函数体中以变量形式使用参数\n",
    "    return 返回值\n",
    "\n",
    "函数名(实参1,实参2) # 调用函数，参数一一对应\n",
    "函数名(参数名2=a，参数名1=b) #可以不按顺序调用\n",
    "'''"
   ]
  },
  {
   "cell_type": "code",
   "execution_count": 2,
   "metadata": {
    "hidden": true
   },
   "outputs": [
    {
     "name": "stdout",
     "output_type": "stream",
     "text": [
      "6\n"
     ]
    }
   ],
   "source": [
    "def mySum(t):\n",
    "    res = 0\n",
    "    for i in t:\n",
    "        res += i\n",
    "    print(res)\n",
    "    \n",
    "mySum((1,2,3))"
   ]
  },
  {
   "cell_type": "markdown",
   "metadata": {},
   "source": [
    "# 参数"
   ]
  },
  {
   "cell_type": "markdown",
   "metadata": {},
   "source": [
    "```Python\n",
    "单个参数\n",
    "多个参数\n",
    "不定长参数，拆包装包\n",
    "缺省参数\n",
    "```"
   ]
  },
  {
   "cell_type": "code",
   "execution_count": null,
   "metadata": {},
   "outputs": [],
   "source": [
    "'''\n",
    "不定长参数\n",
    "\n",
    "方法1：\n",
    "def 函数名(*args): 元组(元组不可变，所以不用列表)\n",
    "    函数体 # 函数体中可以以元组变量的方式使用该参数\n",
    "    return 返回值\n",
    "\n",
    "函数名(实参1,实参2)\n",
    "\n",
    "************************************************************\n",
    "\n",
    "方法2：\n",
    "def 函数名(**dic): 字典\n",
    "    函数体 # 函数体中可以以字典变量的方式使用该参数\n",
    "    return 返回值\n",
    "\n",
    "函数名(参数名1=实参1,参数名2=实参2...) ！！一定要以这种关键字 参数方式调用\n",
    "''' "
   ]
  },
  {
   "cell_type": "code",
   "execution_count": 3,
   "metadata": {},
   "outputs": [
    {
     "name": "stdout",
     "output_type": "stream",
     "text": [
      "(1, 2, 3) <class 'tuple'>\n",
      "6\n"
     ]
    }
   ],
   "source": [
    "def mySum(*t): # 以元组形式接收多个参数\n",
    "    print(t,type(t))\n",
    "    res = 0\n",
    "    for i in t:\n",
    "        res += i\n",
    "    print(res)\n",
    "    \n",
    "mySum(1,2,3) # 使用不定长参数接收多个参数，使得调用更简单方便\n",
    "    "
   ]
  },
  {
   "cell_type": "code",
   "execution_count": 8,
   "metadata": {},
   "outputs": [
    {
     "name": "stdout",
     "output_type": "stream",
     "text": [
      "{'name': 'wxy', 'age': 24} <class 'dict'>\n"
     ]
    }
   ],
   "source": [
    "def mydSum(**kwargs): # 以字典形式接收多个参数\n",
    "    print(kwargs,type(kwargs))\n",
    "    \n",
    "    \n",
    "mydSum(name = 'wxy',age = 24) "
   ]
  },
  {
   "cell_type": "code",
   "execution_count": 19,
   "metadata": {},
   "outputs": [
    {
     "name": "stdout",
     "output_type": "stream",
     "text": [
      "(1, 2, 3, 4)\n",
      "1 2 3 4\n",
      "10\n",
      "****************************\n",
      "{'a': 'wxy', 'b': 24} <class 'dict'>\n",
      "wxy\t24\n"
     ]
    }
   ],
   "source": [
    "'''\n",
    "拆包和装包：\n",
    "* 装包：把传递的参数包装成一个集合，可能是元组、字典\n",
    "* 拆包：把集合参数再次分解成单独的个体\n",
    "'''\n",
    "# def test(*args): # 以元组形式接收多个参数\n",
    "#     #装包\n",
    "#     print(args)\n",
    "    \n",
    "#     # 拆包\n",
    "#     print(*args)\n",
    "    \n",
    "# test(1,2,3)  # 装包操作，传递的是个体，最后是元组\n",
    "\n",
    "'''\n",
    "应用场景\n",
    "'''\n",
    "def mysum(a,b,c,d):\n",
    "     print(a+b+c+d)\n",
    "    \n",
    "def apply(*args): # 以元组形式接收多个参数\n",
    "     #装包\n",
    "     print(args)\n",
    "    \n",
    "     # 拆包\n",
    "     print(*args)\n",
    "     mysum(*args)\n",
    "\n",
    "apply(1,2,3,4)\n",
    "\n",
    "print('****************************')\n",
    "\n",
    "def dmysum(a,b):\n",
    "     print(a,b,sep='\\t')\n",
    "\n",
    "def dtest(**kwargs): # 以字典形式接收多个参数\n",
    "    # 装包\n",
    "    print(kwargs,type(kwargs))\n",
    "    # 拆包\n",
    "    # print(**kwargs) 无法打印❌， 但可以直接用\n",
    "    dmysum(**kwargs) # 相当于 dmysum(a=**,b=**)\n",
    "    \n",
    "dtest(a = 'wxy',b = 24) # 注意形参一致\n"
   ]
  },
  {
   "cell_type": "code",
   "execution_count": 29,
   "metadata": {},
   "outputs": [
    {
     "name": "stdout",
     "output_type": "stream",
     "text": [
      "[9, 5, 3, 2, 1]\n",
      "7\n"
     ]
    }
   ],
   "source": [
    "# 回顾： \n",
    "res = sorted([1,3,2,9,5],reverse = True)\n",
    "print(res)\n",
    "'''\n",
    "缺省参数\n",
    "'''\n",
    "# reverse 这种可写可不写的，大多数情况使用默认值的\n",
    "'''\n",
    "定义：\n",
    "def 函数名(变量名1=默认值1,变量名2=默认值2,...): \n",
    "    函数体 # 函数体中，即使外界没有传递指定变量，也可使用，值为给定默认值\n",
    "\n",
    "函数名(变量1,变量2) # 如此处是缺省参数，则可以不填写\n",
    "'''\n",
    "def qs(a=1,b=2):\n",
    "    print(a+b)\n",
    "qs(b=6)"
   ]
  },
  {
   "cell_type": "code",
   "execution_count": 39,
   "metadata": {},
   "outputs": [
    {
     "name": "stdout",
     "output_type": "stream",
     "text": [
      "4453995952\n",
      "num=10\n",
      "b=10\n",
      "4453995952\n",
      "*******************\n",
      "4453996016\n",
      "num=12\n",
      "a=10\n",
      "4453995952\n",
      "************************\n",
      "4496452896\n",
      "4496452896\n",
      "num=[1, 2, 3, 999]\n",
      "a=[1, 2, 3, 999]\n",
      "4496452896\n"
     ]
    }
   ],
   "source": [
    "'''\n",
    "参数注意事项：\n",
    "* 值传递：传递过来的是一个数据副本，修改副本对原件没有任何影响\n",
    "* 引用传递：传递过来的是一个变量地址，通过地址可以操作同一份原件\n",
    "python里是引用传递\n",
    "'''\n",
    "def change(num):\n",
    "    \n",
    "    print(id(num))\n",
    "    print('num={}'.format(num))\n",
    "    \n",
    "b=10 \n",
    "change(b) \n",
    "print('b={}'.format(b))\n",
    "print(id(b)) # 引用传递\n",
    "\n",
    "print('*******************')\n",
    "'''\n",
    "如果数据类型可变，则可以改变原件\n",
    "如果数据类型不可变,则不可改变原件\n",
    "'''\n",
    "\n",
    "def cha(num):\n",
    "    num +=2 # 重新开辟空间，num+2的指针指向num\n",
    "    print(id(num))\n",
    "    print('num={}'.format(num))\n",
    "    \n",
    "a=10 #数据类型不可变，无法修改\n",
    "cha(a) \n",
    "print('a={}'.format(a))\n",
    "print(id(a)) \n",
    "\n",
    "print('************************')\n",
    "def cancha(num):\n",
    "    print(id(num))\n",
    "    num.append(999)  # 列表可变，加了999地址不变\n",
    "    print(id(num))\n",
    "    print('num={}'.format(num))\n",
    "    \n",
    "ca = [1,2,3] #数据类型可变，可修改\n",
    "cancha(ca) \n",
    "print('a={}'.format(ca))\n",
    "print(id(ca)) "
   ]
  },
  {
   "cell_type": "markdown",
   "metadata": {
    "heading_collapsed": true
   },
   "source": [
    "# 函数的返回值"
   ]
  },
  {
   "cell_type": "code",
   "execution_count": 45,
   "metadata": {
    "hidden": true
   },
   "outputs": [
    {
     "name": "stdout",
     "output_type": "stream",
     "text": [
      "(3, -1)\n",
      "3 -1\n",
      "<class 'tuple'>\n"
     ]
    },
    {
     "data": {
      "text/plain": [
       "'\\nreturn 的后续代码不会被执行\\n只能返回一次\\n如果返回多个数据，可以包装成元组、列表等\\n'"
      ]
     },
     "execution_count": 45,
     "metadata": {},
     "output_type": "execute_result"
    }
   ],
   "source": [
    "def MySum(a,b):\n",
    "    return (a+b,a-b)\n",
    "    print(a) # 不被执行\n",
    "print(MySum(1,2))\n",
    "he,cha = MySum(1,2)\n",
    "print(he,cha)\n",
    "print(type(MySum(1,2)))\n",
    "\n",
    "'''\n",
    "return 的后续代码不会被执行\n",
    "只能返回一次\n",
    "如果返回多个数据，可以包装成元组、列表等\n",
    "'''"
   ]
  },
  {
   "cell_type": "markdown",
   "metadata": {
    "heading_collapsed": true
   },
   "source": [
    "# 函数的使用描述"
   ]
  },
  {
   "cell_type": "code",
   "execution_count": null,
   "metadata": {
    "hidden": true
   },
   "outputs": [],
   "source": [
    "def 函数名():\n",
    "    '这里写帮助信息'\n",
    "查看函数使用文档 help(函数名)"
   ]
  },
  {
   "cell_type": "markdown",
   "metadata": {
    "heading_collapsed": true
   },
   "source": [
    "# 偏函数"
   ]
  },
  {
   "cell_type": "code",
   "execution_count": 53,
   "metadata": {
    "hidden": true
   },
   "outputs": [
    {
     "name": "stdout",
     "output_type": "stream",
     "text": [
      "8\n"
     ]
    }
   ],
   "source": [
    "# 当写一个参数比较多的函数时，如果有些参数大部分场景下都是某一个固定值，...\n",
    "# 那么为了简化使用就可以创建一个新函数，指定我们要使用的函数的某个参数为某个...\n",
    "# 固定的值\n",
    "\n",
    "def test(a,b,c,d=1):\n",
    "    print(a+b+c+d)\n",
    "\n",
    "def test2(a,b,c,d=2): # 偏函数\n",
    "    test(a,b,c,d)\n",
    "\n",
    "test2(1,2,3)\n"
   ]
  },
  {
   "cell_type": "code",
   "execution_count": 61,
   "metadata": {
    "hidden": true
   },
   "outputs": [
    {
     "name": "stdout",
     "output_type": "stream",
     "text": [
      "functools.partial(<function test at 0x10c00fc20>, c=5)\n",
      "<class 'functools.partial'> \n",
      "\n",
      "9\n"
     ]
    }
   ],
   "source": [
    "# 快速创建偏函数\n",
    "import functools\n",
    "newfun = functools.partial(test,c=5) #(函数名，参数)\n",
    "print(newfun)\n",
    "print(type(newfun),'\\n')\n",
    "\n",
    "newfun(1,2)"
   ]
  },
  {
   "cell_type": "code",
   "execution_count": 65,
   "metadata": {
    "hidden": true
   },
   "outputs": [
    {
     "name": "stdout",
     "output_type": "stream",
     "text": [
      "34\n",
      "34\n"
     ]
    }
   ],
   "source": [
    "# 场景\n",
    "numstr = '100010'\n",
    "result = int(numstr,base=2)\n",
    "print(result)\n",
    "\n",
    "# 在往后一段时间，都需要把一个二进制字符串转换为十进制数据\n",
    "import functools\n",
    "newint = functools.partial(int,base = 2)\n",
    "print(newint('100010'))"
   ]
  },
  {
   "cell_type": "markdown",
   "metadata": {
    "heading_collapsed": true
   },
   "source": [
    "# 高阶函数"
   ]
  },
  {
   "cell_type": "code",
   "execution_count": 73,
   "metadata": {
    "hidden": true
   },
   "outputs": [
    {
     "name": "stdout",
     "output_type": "stream",
     "text": [
      "<function test at 0x10c00fc20> 4496358432 \n",
      "\n",
      "3\n",
      "*************\n",
      "[{'name': 'bxy', 'age': 8}, {'name': 'ys', 'age': 18}, {'name': 'wxy', 'age': 24}]\n",
      "[{'name': 'wxy', 'age': 24}, {'name': 'ys', 'age': 18}, {'name': 'bxy', 'age': 8}]\n"
     ]
    }
   ],
   "source": [
    "# a,b形参，变量\n",
    "# 传递数据就是指给变量赋值\n",
    "# 函数本身也可以作为数据传递给另外一个变量\n",
    "def test1(a,b):\n",
    "    print(a+b)\n",
    "print(test,id(test),'\\n')\n",
    "\n",
    "test2 = test1\n",
    "test2(1,2)\n",
    "\n",
    "# 当一个函数A的参数接受的又是另一个函数时，则把这个函数A称为高阶函数\n",
    "# 例如 sorted函数\n",
    "\n",
    "print('*************')\n",
    "ls = [{'name':'wxy','age':24},{'name':'ys','age':18},{'name':'bxy','age':8}]\n",
    "\n",
    "def getKey(x):\n",
    "    return x['age']\n",
    "\n",
    "result = sorted(ls,key = getKey )\n",
    "print(result)\n",
    "print(ls)"
   ]
  },
  {
   "cell_type": "code",
   "execution_count": 75,
   "metadata": {
    "hidden": true
   },
   "outputs": [
    {
     "name": "stdout",
     "output_type": "stream",
     "text": [
      "6\n"
     ]
    }
   ],
   "source": [
    "# 案例 动态计算两个数据\n",
    "def calcul(num1,num2,calFunc):\n",
    "    print(calFunc(num1,num2))\n",
    "    \n",
    "def sumC(a,b):\n",
    "    return a+b\n",
    "\n",
    "def miC(a,b):\n",
    "    return a-b\n",
    "\n",
    "calcul(9,3,miC)"
   ]
  },
  {
   "cell_type": "markdown",
   "metadata": {
    "heading_collapsed": true
   },
   "source": [
    "# 返回函数"
   ]
  },
  {
   "cell_type": "code",
   "execution_count": 78,
   "metadata": {
    "hidden": true
   },
   "outputs": [
    {
     "name": "stdout",
     "output_type": "stream",
     "text": [
      "<function getFunc.<locals>.mius1 at 0x10c054f80> <class 'function'>\n",
      "-7 <class 'int'>\n"
     ]
    }
   ],
   "source": [
    "# 是指一个函数内部，它返回的数据是另一个函数\n",
    "# 案例 根据不同参数，获取不同操作，做不同计算\n",
    "def getFunc(flag):\n",
    "    # 1.再次定义几个函数\n",
    "    def sum1(a,b,c):\n",
    "        return a+b+c\n",
    "    def mius1(a,b,c):\n",
    "        return a-b-c\n",
    "    \n",
    "    # 2.根据不同flag值，来返回不同操作函数\n",
    "    if flag == '+':\n",
    "        return sum1\n",
    "    elif flag == '-':\n",
    "        return mius1\n",
    "    \n",
    "result = getFunc('-')\n",
    "print(result,type(result))\n",
    "res = result(1,3,5)\n",
    "print(res,type(res))"
   ]
  },
  {
   "cell_type": "markdown",
   "metadata": {},
   "source": [
    "# 匿名函数lambda"
   ]
  },
  {
   "cell_type": "code",
   "execution_count": null,
   "metadata": {},
   "outputs": [],
   "source": [
    "# lambda 函数，指没有名字的函数\n",
    "# lambda 参数1，参数2...：表达式\n",
    "# 限制：1.只能写一个表达式，不能直接return...\n",
    "#      2.表达式结果就是返回值...\n",
    "#      3.因此只适用于一些简单操作"
   ]
  },
  {
   "cell_type": "code",
   "execution_count": 79,
   "metadata": {},
   "outputs": [
    {
     "name": "stdout",
     "output_type": "stream",
     "text": [
      "3\n"
     ]
    }
   ],
   "source": [
    "res = (lambda x,y : x+y)(1,2) # (lambda x,y : x+y)这就是一个函数\n",
    "print(res)\n",
    "\n",
    "# new =lambda x,y : x+y\n",
    "# print(new(1,2))"
   ]
  },
  {
   "cell_type": "code",
   "execution_count": 81,
   "metadata": {},
   "outputs": [
    {
     "name": "stdout",
     "output_type": "stream",
     "text": [
      "[{'name': 'bxy', 'age': 8}, {'name': 'ys', 'age': 18}, {'name': 'wxy', 'age': 24}]\n"
     ]
    }
   ],
   "source": [
    "ls = [{'name':'wxy','age':24},{'name':'ys','age':18},{'name':'bxy','age':8}]\n",
    "\n",
    "# def getKey(x):\n",
    "#     return x['age']\n",
    "# result = sorted(ls,key = getKey )\n",
    "result = sorted(ls,key = lambda x:x['age'] )\n",
    "print(result)\n"
   ]
  },
  {
   "cell_type": "markdown",
   "metadata": {},
   "source": [
    "# map()"
   ]
  },
  {
   "cell_type": "markdown",
   "metadata": {},
   "source": [
    "```Python\n",
    "map(function,iterable,...)\n",
    "把function一次作用在list的每个元素上，得到新的list并返回\n",
    "```"
   ]
  },
  {
   "cell_type": "code",
   "execution_count": 2,
   "metadata": {},
   "outputs": [
    {
     "name": "stdout",
     "output_type": "stream",
     "text": [
      "<map object at 0x10d8d56d0>\n",
      "[1, 4, 9, 16]\n"
     ]
    }
   ],
   "source": [
    "def square(x):\n",
    "    return x*x\n",
    "a = map(square,[1,2,3,4])\n",
    "print(a)\n",
    "print(list(a))"
   ]
  },
  {
   "cell_type": "markdown",
   "metadata": {
    "heading_collapsed": true
   },
   "source": [
    "# 闭包"
   ]
  },
  {
   "cell_type": "code",
   "execution_count": 82,
   "metadata": {
    "hidden": true
   },
   "outputs": [
    {
     "name": "stdout",
     "output_type": "stream",
     "text": [
      "10\n"
     ]
    }
   ],
   "source": [
    "# 在函数嵌套的前提下，内层函数引用了外层函数的变量(包括参数)，...\n",
    "# 外层函数又把内层函数当做返回值进行返回\n",
    "# 内层函数+所引用的外层变量，称为闭包\n",
    "def test():\n",
    "    a = 10\n",
    "    def test2():\n",
    "        print(a)\n",
    "    return test2\n",
    "\n",
    "newF = test()\n",
    "newF()"
   ]
  },
  {
   "cell_type": "code",
   "execution_count": null,
   "metadata": {
    "hidden": true
   },
   "outputs": [],
   "source": [
    "'''\n",
    "应用场景：外层函数，根据不同的参数，来生成不同作用功能的函数\n",
    "'''"
   ]
  },
  {
   "cell_type": "code",
   "execution_count": 5,
   "metadata": {
    "hidden": true
   },
   "outputs": [
    {
     "name": "stdout",
     "output_type": "stream",
     "text": [
      "--------------------闭包--------------------\n",
      "---------------wxy---------------\n"
     ]
    }
   ],
   "source": [
    "# 案例：根据配置信息，生成不同的分割线函数\n",
    "def line_config(content,length):\n",
    "    def line():\n",
    "        print('-'*(length//2) + content + '-'*(length//2))\n",
    "    return line\n",
    "\n",
    "line1 = line_config('闭包',40)\n",
    "# 要多次使用的时候就不用每次都写 line_config('闭包',40)\n",
    "\n",
    "line2 = line_config('wxy',30)\n",
    "line1()\n",
    "line2()"
   ]
  },
  {
   "cell_type": "code",
   "execution_count": 10,
   "metadata": {
    "hidden": true
   },
   "outputs": [
    {
     "name": "stdout",
     "output_type": "stream",
     "text": [
      "10\n",
      "999\n",
      "10\n"
     ]
    }
   ],
   "source": [
    "'''\n",
    "注意事项：\n",
    "1.闭包中如果要修改引用的外层变量，需要使用 nonlocal 变量声明，否则当做闭包内新定义的变量\n",
    "2.闭包中引用了一个后期会发生变化的变量时，一定要注意\n",
    "  （1）\n",
    "'''\n",
    "\n",
    "def test():\n",
    "    num = 10\n",
    "    def test2(): # 内部函数是可以访问读取外部函数变量的\n",
    "        #a = 666 # 可以定义新变量\n",
    "        #print(a,num)\n",
    "        num = 999 # 代表新的变量\n",
    "        print(num)\n",
    "    print(num)\n",
    "    test2()\n",
    "    print(num)\n",
    "    \n",
    "    return test2\n",
    "res = test()\n",
    "#res()"
   ]
  },
  {
   "cell_type": "code",
   "execution_count": 13,
   "metadata": {
    "hidden": true
   },
   "outputs": [
    {
     "name": "stdout",
     "output_type": "stream",
     "text": [
      "10\n",
      "999\n",
      "999\n"
     ]
    }
   ],
   "source": [
    "def test():\n",
    "    num1 = 10\n",
    "    def test2(): # 内部函数是可以访问读取外部函数变量的\n",
    "        nonlocal num1# 声明变量，代表外部的\n",
    "        num1 = 999 \n",
    "        print(num1)\n",
    "    print(num1)\n",
    "    test2()\n",
    "    print(num1)\n",
    "    \n",
    "    return test2\n",
    "rest = test()"
   ]
  },
  {
   "cell_type": "code",
   "execution_count": null,
   "metadata": {
    "hidden": true
   },
   "outputs": [],
   "source": [
    "# 引用后期会发生变化的变量"
   ]
  },
  {
   "cell_type": "code",
   "execution_count": 14,
   "metadata": {
    "hidden": true
   },
   "outputs": [
    {
     "name": "stdout",
     "output_type": "stream",
     "text": [
      "2\n"
     ]
    }
   ],
   "source": [
    "def test1():\n",
    "    a = 1\n",
    "    def test2():\n",
    "        print(a)\n",
    "    a = 2\n",
    "    return test2\n",
    "\n",
    "newFunc = test1()\n",
    "newFunc()\n",
    "\n",
    "# 函数只有被调用的时候，才会真正确定对应的值，之前都是以普通变量标识名称而存在"
   ]
  },
  {
   "cell_type": "code",
   "execution_count": 16,
   "metadata": {
    "hidden": true,
    "scrolled": true
   },
   "outputs": [
    {
     "name": "stdout",
     "output_type": "stream",
     "text": [
      "[<function test1.<locals>.test2 at 0x10e3af830>, <function test1.<locals>.test2 at 0x10e3af050>, <function test1.<locals>.test2 at 0x10e3afb90>]\n",
      "3\n",
      "3\n",
      "3\n"
     ]
    }
   ],
   "source": [
    "def test1():\n",
    "    funcs = []\n",
    "    for i in range(1,4):\n",
    "        def test2():\n",
    "            print(i)\n",
    "        funcs.append(test2)\n",
    "    return funcs\n",
    "\n",
    "newFunc = test1()\n",
    "print(newFunc) # 输出一个又一个函数\n",
    "\n",
    "newFunc[0]() # 执行时 i=3，之前test2里i都只是标识\n",
    "newFunc[1]()\n",
    "newFunc[2]()"
   ]
  },
  {
   "cell_type": "code",
   "execution_count": 20,
   "metadata": {
    "hidden": true
   },
   "outputs": [
    {
     "name": "stdout",
     "output_type": "stream",
     "text": [
      "[<function test1.<locals>.test2.<locals>.inner at 0x10e3af950>, <function test1.<locals>.test2.<locals>.inner at 0x10e3af8c0>, <function test1.<locals>.test2.<locals>.inner at 0x10e3afb00>]\n",
      "1\n",
      "2\n",
      "3\n",
      "<function test1.<locals>.test2.<locals>.inner at 0x10e3af950>\n"
     ]
    }
   ],
   "source": [
    "def test1():\n",
    "    funcs = []\n",
    "    for i in range(1,4):\n",
    "        def test2(num):\n",
    "            def inner():\n",
    "                print(num)\n",
    "            return inner\n",
    "        funcs.append(test2(i)) # 追加的是test2的执行\n",
    "    return funcs\n",
    "\n",
    "newFunc = test1()\n",
    "print(newFunc) # 输出一个又一个函数\n",
    "\n",
    "newFunc[0]() # test2的执行test2(1),也就是num=1，再inner()\n",
    "newFunc[1]()\n",
    "newFunc[2]()\n",
    "print(newFunc[0])"
   ]
  },
  {
   "cell_type": "code",
   "execution_count": null,
   "metadata": {
    "hidden": true
   },
   "outputs": [],
   "source": []
  },
  {
   "cell_type": "markdown",
   "metadata": {},
   "source": [
    "# 装饰器"
   ]
  },
  {
   "cell_type": "markdown",
   "metadata": {},
   "source": [
    "```Python\n",
    "在函数名以及函数体不改变的前提下，给一个函数附加一些额外的代码\n",
    "```"
   ]
  },
  {
   "cell_type": "code",
   "execution_count": null,
   "metadata": {},
   "outputs": [],
   "source": [
    "# 案例：发说说，发图片"
   ]
  },
  {
   "cell_type": "code",
   "execution_count": 22,
   "metadata": {},
   "outputs": [
    {
     "name": "stdout",
     "output_type": "stream",
     "text": [
      "登录验证...\n",
      "发说说\n",
      "登录验证....\n",
      "发说说\n"
     ]
    }
   ],
   "source": [
    "# 功能函数\n",
    "def fss():\n",
    "    print('发说说')\n",
    "    \n",
    "def fpic():\n",
    "    print('发图片')\n",
    "    \n",
    "# 相关逻辑代码(业务逻辑)\n",
    "btnIndex = 1\n",
    "if btnIndex == 1:\n",
    "    print('登录验证...')\n",
    "    fss()\n",
    "else:\n",
    "    print('登录验证....')\n",
    "    fpic()\n",
    "    \n",
    "# 发说说，发图片，必须有一个前提，用户必须登录：\n",
    "#      1.直接在业务逻辑代码里修稿，如上，但因为业务逻辑很多，造成每一份逻辑代码在调用...\n",
    "#        具体功能之前都要做登录验证，代码冗余度大，复用性和维护性较差\n",
    "#      2.在功能函数里修改，如下，方便代码的重用\n",
    "\n",
    "def checklogin():\n",
    "    print('登录验证....')\n",
    "def fss():\n",
    "    checklogin()\n",
    "    print('发说说')\n",
    "    \n",
    "def fpic():\n",
    "    checklogin()\n",
    "    print('发图片')\n",
    "    \n",
    "# 相关逻辑代码(业务逻辑)\n",
    "btnIndex = 1\n",
    "if btnIndex == 1:\n",
    "    fss()\n",
    "else:\n",
    "    fpic()"
   ]
  },
  {
   "cell_type": "code",
   "execution_count": null,
   "metadata": {},
   "outputs": [],
   "source": []
  },
  {
   "cell_type": "code",
   "execution_count": 23,
   "metadata": {},
   "outputs": [
    {
     "name": "stdout",
     "output_type": "stream",
     "text": [
      "登录验证....\n",
      "发说说\n"
     ]
    }
   ],
   "source": [
    "# ‘开放封闭原则’\n",
    "'''\n",
    "已经写好的代码，尽可能不要修改\n",
    "如果想要新增功能，在原先代码基础上单独进行扩展\n",
    "'''\n",
    "# '单一职责'\n",
    "'''\n",
    "例如上面的案例，功能是发说说/图片，就不要加登录验证功能，但上述却加了\n",
    "'''\n",
    "\n",
    "# 根据上述原则修改：保证逻辑代码里的语句不修改，功能增加，且一个模块功能职责单一\n",
    "\n",
    "def checklogin(func): # 装饰器\n",
    "    def inner():\n",
    "        print('登录验证....') # 利用闭包\n",
    "        func()\n",
    "    return inner # 返回内部函数\n",
    "\n",
    "# 定义2个功能函数：\n",
    "def fss():\n",
    "    print('发说说')\n",
    "fss = checklogin(fss) # fss是inner那个函数,变成了包装了checklogin功能的发说说函数\n",
    "\n",
    "def fpic():\n",
    "    print('发图片')\n",
    "fpic = checklogin(fpic)\n",
    "\n",
    "    \n",
    "# 相关逻辑代码(业务逻辑)\n",
    "btnIndex = 1\n",
    "if btnIndex == 1:\n",
    "    fss()\n",
    "else:\n",
    "    fpic()"
   ]
  },
  {
   "cell_type": "code",
   "execution_count": 24,
   "metadata": {},
   "outputs": [
    {
     "name": "stdout",
     "output_type": "stream",
     "text": [
      "登录验证....\n",
      "发说说\n"
     ]
    }
   ],
   "source": [
    "'''\n",
    "语法糖\n",
    "'''\n",
    "def checklogin(func): # 装饰器\n",
    "    def inner():\n",
    "        print('登录验证....') # 利用闭包\n",
    "        func()\n",
    "    return inner # 返回内部函数\n",
    "\n",
    "# 定义2个功能函数：\n",
    "\n",
    "@checklogin # 给原本的函数装饰一个额外功能，等同于上面fss = checklogin(fss)\n",
    "def fss():\n",
    "    print('发说说')\n",
    "\n",
    "@checklogin\n",
    "def fpic():\n",
    "    print('发图片')\n",
    "\n",
    "    \n",
    "# 相关逻辑代码(业务逻辑)\n",
    "btnIndex = 1\n",
    "if btnIndex == 1:\n",
    "    fss()\n",
    "else:\n",
    "    fpic()"
   ]
  },
  {
   "cell_type": "raw",
   "metadata": {},
   "source": []
  },
  {
   "cell_type": "code",
   "execution_count": 25,
   "metadata": {},
   "outputs": [
    {
     "name": "stdout",
     "output_type": "stream",
     "text": [
      "登录验证操作...\n",
      "发说说\n"
     ]
    }
   ],
   "source": [
    "'''\n",
    "装饰器的执行时间\n",
    "'''\n",
    "\n",
    "# step3：想增加额外功能\n",
    "'''\n",
    "def check():\n",
    "    print('登录验证操作...')\n",
    "    fss() 但是以后代码不一定只有这一个fss()功能\n",
    "    \n",
    "所以：\n",
    "def check(func):\n",
    "    print('登录验证操作...')\n",
    "    func()\n",
    "  然后在功能函数下面加一句\n",
    "    fss = check(fss) 但这样，这一句话就直接执行了print，然而实际什么时候执行是逻辑业务\n",
    "  代码里决定的，因此需要fss等于的是加了check的fss函数，而不是直接执行\n",
    "'''\n",
    "def check(func):\n",
    "    def inner():\n",
    "        print('登录验证操作...')\n",
    "        func()\n",
    "    return inner\n",
    "\n",
    "\n",
    "# step1:定义功能函数\n",
    "'''\n",
    "def fss1():\n",
    "    print('发说说')\n",
    "'''\n",
    "    # 现在想给功能增加额外的功能，但是要保证：\n",
    "    # 1.函数名不发生改变\n",
    "    # 2.函数体内代码不改变\n",
    "    \n",
    "@check # 当写这一句，check函数已经被执行\n",
    "def fss1():\n",
    "    print('发说说')\n",
    "    \n",
    "# step2:逻辑业务\n",
    "fss1()"
   ]
  },
  {
   "cell_type": "markdown",
   "metadata": {},
   "source": [
    "<div class=\"girk\">\n",
    "'''\n",
    "补充：\n",
    "装饰器叠加：从上到下装饰，从下到上执行;\n",
    "对有参函数进行装饰;\n",
    "对返回值的函数进行装饰;\n",
    "带有参数的装饰器\n",
    "'''</div><i class=\"fa fa-lightbulb-o \"></i>"
   ]
  },
  {
   "cell_type": "code",
   "execution_count": 2,
   "metadata": {},
   "outputs": [
    {
     "name": "stdout",
     "output_type": "stream",
     "text": [
      "----\n",
      "****\n",
      "wxy\n"
     ]
    }
   ],
   "source": [
    "def zsq_star(func):\n",
    "    def inner():\n",
    "        print('****')\n",
    "        func()\n",
    "    return inner\n",
    "\n",
    "def zsq_line(func):\n",
    "    def inner():\n",
    "        print('----')\n",
    "        func()\n",
    "    return inner\n",
    "\n",
    "@zsq_line\n",
    "@zsq_star \n",
    "def print_cont():\n",
    "    print('wxy')\n",
    "\n",
    "print_cont()"
   ]
  },
  {
   "cell_type": "code",
   "execution_count": null,
   "metadata": {},
   "outputs": [],
   "source": []
  },
  {
   "cell_type": "code",
   "execution_count": 22,
   "metadata": {},
   "outputs": [
    {
     "name": "stdout",
     "output_type": "stream",
     "text": [
      "--------------------\n",
      "7 666 a 123\n"
     ]
    }
   ],
   "source": [
    "# 对有参函数装饰：无论什么场景，保证函数调用参数个数一致\n",
    "#              为了通用，可以使用不定长参数，结合拆包操作进行处理\n",
    "\n",
    "def zz(func):\n",
    "    def inner(*args,**kwargs): # 装包\n",
    "        print('-'*20)\n",
    "        func(*args,**kwargs) # 拆包\n",
    "    return inner\n",
    "\n",
    "#@zz\n",
    "# def pnum(num,num2):\n",
    "#     print(num,num2)\n",
    "\n",
    "@zz\n",
    "def pnum(num1,num2,num3,num4):\n",
    "     print(num1,num2,num3,num4)\n",
    "        \n",
    "# pnum(999,123) # 实际执行的是 inner\n",
    "pnum(7,num4=123,num2=666,num3='a')"
   ]
  },
  {
   "cell_type": "code",
   "execution_count": 26,
   "metadata": {},
   "outputs": [
    {
     "name": "stdout",
     "output_type": "stream",
     "text": [
      "--------------------\n",
      "7 666 67 123\n",
      "None\n",
      "*******************************\n",
      "--------------------\n",
      "7 666 67 123\n",
      "863\n"
     ]
    }
   ],
   "source": [
    "def zz(func):\n",
    "    def inner(*args,**kwargs): # 装包\n",
    "        print('-'*20)\n",
    "        func(*args,**kwargs) # 拆包\n",
    "    return inner\n",
    "\n",
    "@zz\n",
    "def pnum(num1,num2,num3,num4):\n",
    "    print(num1,num2,num3,num4)\n",
    "    return num1+num2+num3+num4\n",
    "        \n",
    "res = pnum(7,num4=123,num2=666,num3=67) # 相当于调用的是inner 无返回值\n",
    "print(res)\n",
    "\n",
    "'''\n",
    "因此pnum与inner要一致 (以下为通用写法)\n",
    "\n",
    "'''\n",
    "print('*******************************')\n",
    "def zz(func):\n",
    "    def inner(*args,**kwargs): # 装包\n",
    "        print('-'*20)\n",
    "        res = func(*args,**kwargs) # 拆包\n",
    "        return res\n",
    "        \n",
    "    return inner\n",
    "\n",
    "@zz\n",
    "def pnum(num1,num2,num3,num4):\n",
    "    print(num1,num2,num3,num4)\n",
    "    return num1+num2+num3+num4\n",
    "        \n",
    "res = pnum(7,num4=123,num2=666,num3=67) # 相当于调用的是inner 无返回值\n",
    "print(res)"
   ]
  },
  {
   "cell_type": "raw",
   "metadata": {},
   "source": []
  },
  {
   "cell_type": "code",
   "execution_count": 30,
   "metadata": {},
   "outputs": [
    {
     "name": "stdout",
     "output_type": "stream",
     "text": [
      "******************************\n",
      "666\n"
     ]
    }
   ],
   "source": [
    "# 带参数装饰器\n",
    "\n",
    "# 如果在666前有不同要求，‘===’‘---’或‘***’\n",
    "\n",
    "# 获取装饰器函数\n",
    "def getzsq(char): # 装饰器里不加参数，在外面加参数\n",
    "    \n",
    "    # 以下部分是标准装饰器\n",
    "    def zsq(func):\n",
    "        def inner():\n",
    "            print(char*30)\n",
    "            func()\n",
    "            \n",
    "        return inner\n",
    "    ########\n",
    "    \n",
    "    return zsq\n",
    "\n",
    "@getzsq('*')\n",
    "def f1():\n",
    "    print(666)\n",
    "\n",
    "f1()"
   ]
  },
  {
   "cell_type": "markdown",
   "metadata": {},
   "source": [
    "# 生成器函数"
   ]
  },
  {
   "cell_type": "code",
   "execution_count": null,
   "metadata": {},
   "outputs": [],
   "source": [
    "'''\n",
    "是特殊的迭代器，拥有迭代器特征：\n",
    " 1.惰性计算器，节省内存\n",
    " 2.能够记录状态，并通过next()访问下一状态\n",
    " 3.具有可迭代性\n",
    "但打造自己的迭代器比较复杂，需要实现很多方法(后续面向对象中讲)，因此用生成器\n",
    "'''"
   ]
  },
  {
   "cell_type": "code",
   "execution_count": 48,
   "metadata": {},
   "outputs": [
    {
     "name": "stdout",
     "output_type": "stream",
     "text": [
      "<generator object <genexpr> at 0x10f78ec50>\n",
      "2\n",
      "4\n",
      "6\n",
      "\n",
      " ******* \n",
      "\n",
      "<generator object test at 0x10f7bb1d0>\n",
      "1\n",
      "-----\n",
      "a\n",
      "2\n",
      "-----\n",
      "b\n",
      "3\n",
      "-----\n",
      "c\n"
     ]
    },
    {
     "ename": "StopIteration",
     "evalue": "",
     "output_type": "error",
     "traceback": [
      "\u001b[0;31m---------------------------------------------------------------------------\u001b[0m",
      "\u001b[0;31mStopIteration\u001b[0m                             Traceback (most recent call last)",
      "\u001b[0;32m<ipython-input-48-fd0d8a1bd99a>\u001b[0m in \u001b[0;36m<module>\u001b[0;34m\u001b[0m\n\u001b[1;32m     32\u001b[0m \u001b[0mprint\u001b[0m\u001b[0;34m(\u001b[0m\u001b[0mnext\u001b[0m\u001b[0;34m(\u001b[0m\u001b[0mgen\u001b[0m\u001b[0;34m)\u001b[0m\u001b[0;34m)\u001b[0m\u001b[0;34m\u001b[0m\u001b[0;34m\u001b[0m\u001b[0m\n\u001b[1;32m     33\u001b[0m \u001b[0mprint\u001b[0m\u001b[0;34m(\u001b[0m\u001b[0;34m'-----'\u001b[0m\u001b[0;34m)\u001b[0m\u001b[0;34m\u001b[0m\u001b[0;34m\u001b[0m\u001b[0m\n\u001b[0;32m---> 34\u001b[0;31m \u001b[0mprint\u001b[0m\u001b[0;34m(\u001b[0m\u001b[0mnext\u001b[0m\u001b[0;34m(\u001b[0m\u001b[0mgen\u001b[0m\u001b[0;34m)\u001b[0m\u001b[0;34m)\u001b[0m\u001b[0;34m\u001b[0m\u001b[0;34m\u001b[0m\u001b[0m\n\u001b[0m",
      "\u001b[0;31mStopIteration\u001b[0m: "
     ]
    }
   ],
   "source": [
    "# 创建方法1-生成器表达式，把列表的[]改为()\n",
    "l = (i for i in range(1,100) if i % 2 == 0)\n",
    "print(l)\n",
    "print(next(l)) # 可状态记录\n",
    "print(next(l))\n",
    "print(l.__next__())\n",
    "# for i in l:\n",
    "#     print(i)\n",
    "\n",
    "print('\\n','*******','\\n')\n",
    "# 创建方法1-生成器函数，函数中包含yield语句，函数执行结果就是生成器\n",
    "def test():\n",
    "    # print('xxxx') # print(gen)不会执行这一行\n",
    "    yield 1 # 1是第一个状态值\n",
    "    print('a')\n",
    "    \n",
    "    yield 2\n",
    "    print('b')\n",
    "    \n",
    "    yield 3\n",
    "    print('c')\n",
    "\n",
    "gen = test() # 仅仅产生一个生成器\n",
    "print(gen)\n",
    "\n",
    "print(next(gen)) # 访问第一个状态值，打印1\n",
    "\n",
    "print('-----')\n",
    "print(next(gen)) # 打印a,1\n",
    "\n",
    "# yield 可以阻断当前函数执行，...\n",
    "# 然后使用next()或__next__()都会让函数继续执行，当到下一个yield语句又会暂停\n",
    "\n",
    "print('-----')\n",
    "print(next(gen)) # 打印b,3\n",
    "\n",
    "print('-----')\n",
    "print(next(gen)) # 打印c,然后报错"
   ]
  },
  {
   "cell_type": "code",
   "execution_count": 49,
   "metadata": {},
   "outputs": [
    {
     "name": "stdout",
     "output_type": "stream",
     "text": [
      "<generator object test at 0x10f7bb0d0>\n",
      "1\n",
      "-----\n",
      "2\n"
     ]
    }
   ],
   "source": [
    "def test():\n",
    "    for i in range(1,9):\n",
    "        yield i\n",
    "        \n",
    "\n",
    "gen = test() # 仅仅产生一个生成器\n",
    "print(gen)\n",
    "\n",
    "print(next(gen)) # 访问第一个状态值，打印1\n",
    "\n",
    "print('-----')\n",
    "print(next(gen)) # 打印1"
   ]
  },
  {
   "cell_type": "code",
   "execution_count": null,
   "metadata": {},
   "outputs": [],
   "source": [
    "# 产生数据的方式:\n",
    "# 生成器具备可迭代性\n",
    "# next() 或 生成器.__next__()\n",
    "# for in "
   ]
  },
  {
   "cell_type": "raw",
   "metadata": {},
   "source": []
  },
  {
   "cell_type": "code",
   "execution_count": 55,
   "metadata": {},
   "outputs": [
    {
     "name": "stdout",
     "output_type": "stream",
     "text": [
      "1\n",
      "None\n",
      "2\n"
     ]
    }
   ],
   "source": [
    "# send()函数\n",
    "# send方法有一个参数，指的是上一次被挂起的yield语句的返回值\n",
    "# 相比于.__next__()，可以额外的给yield语句传值\n",
    "# note：第一次调用 t.send(None)\n",
    "def test():\n",
    "    res1 = yield 1\n",
    "    print(res1)\n",
    "    \n",
    "    res2 = yield 2\n",
    "    print(res2)\n",
    "gen = test()\n",
    "\n",
    "print(gen.__next__()) # 走到等号右边yield 1 停止\n",
    "print(gen.__next__()) # 接着上面，赋值给res1，打印res1，走到等号右边yield 2"
   ]
  },
  {
   "cell_type": "code",
   "execution_count": 57,
   "metadata": {},
   "outputs": [
    {
     "name": "stdout",
     "output_type": "stream",
     "text": [
      "1\n",
      "aaa\n",
      "2\n"
     ]
    }
   ],
   "source": [
    "def test():\n",
    "    res1 = yield 1\n",
    "    print(res1)\n",
    "    \n",
    "    res2 = yield 2\n",
    "    print(res2)\n",
    "gen = test()\n",
    "\n",
    "print(gen.send(None)) # 第一次传空值\n",
    "#print(gen.__next__()) # 走到等号右边yield 1 停止\n",
    "\n",
    "print(gen.send('aaa')) # 给上一次挂起的 yield 1 语句传值，再往下"
   ]
  },
  {
   "cell_type": "raw",
   "metadata": {},
   "source": []
  },
  {
   "cell_type": "code",
   "execution_count": 60,
   "metadata": {},
   "outputs": [
    {
     "name": "stdout",
     "output_type": "stream",
     "text": [
      "1\n",
      "a\n",
      "2\n"
     ]
    },
    {
     "ename": "StopIteration",
     "evalue": "",
     "output_type": "error",
     "traceback": [
      "\u001b[0;31m---------------------------------------------------------------------------\u001b[0m",
      "\u001b[0;31mStopIteration\u001b[0m                             Traceback (most recent call last)",
      "\u001b[0;32m<ipython-input-60-d9fc27adee5d>\u001b[0m in \u001b[0;36m<module>\u001b[0;34m\u001b[0m\n\u001b[1;32m     14\u001b[0m \u001b[0mprint\u001b[0m\u001b[0;34m(\u001b[0m\u001b[0mg\u001b[0m\u001b[0;34m.\u001b[0m\u001b[0m__next__\u001b[0m\u001b[0;34m(\u001b[0m\u001b[0;34m)\u001b[0m\u001b[0;34m)\u001b[0m\u001b[0;34m\u001b[0m\u001b[0;34m\u001b[0m\u001b[0m\n\u001b[1;32m     15\u001b[0m \u001b[0mg\u001b[0m\u001b[0;34m.\u001b[0m\u001b[0mclose\u001b[0m\u001b[0;34m(\u001b[0m\u001b[0;34m)\u001b[0m\u001b[0;34m\u001b[0m\u001b[0;34m\u001b[0m\u001b[0m\n\u001b[0;32m---> 16\u001b[0;31m \u001b[0mprint\u001b[0m\u001b[0;34m(\u001b[0m\u001b[0mg\u001b[0m\u001b[0;34m.\u001b[0m\u001b[0m__next__\u001b[0m\u001b[0;34m(\u001b[0m\u001b[0;34m)\u001b[0m\u001b[0;34m)\u001b[0m\u001b[0;34m\u001b[0m\u001b[0;34m\u001b[0m\u001b[0m\n\u001b[0m\u001b[1;32m     17\u001b[0m \u001b[0;31m# print(g.__next__()) #报错\u001b[0m\u001b[0;34m\u001b[0m\u001b[0;34m\u001b[0m\u001b[0;34m\u001b[0m\u001b[0m\n",
      "\u001b[0;31mStopIteration\u001b[0m: "
     ]
    }
   ],
   "source": [
    "# 关闭生成器 close()\n",
    "def test():\n",
    "    yield 1\n",
    "    print('a')\n",
    "    \n",
    "    yield 2\n",
    "    print('b')\n",
    "    \n",
    "    yield 3\n",
    "    print('c')\n",
    "\n",
    "g = test()\n",
    "print(g.__next__())\n",
    "print(g.__next__())\n",
    "\n",
    "g.close()\n",
    "\n",
    "print(g.__next__())\n"
   ]
  },
  {
   "cell_type": "raw",
   "metadata": {},
   "source": []
  },
  {
   "cell_type": "code",
   "execution_count": 64,
   "metadata": {
    "scrolled": true
   },
   "outputs": [
    {
     "name": "stdout",
     "output_type": "stream",
     "text": [
      "1\n",
      "a\n"
     ]
    },
    {
     "ename": "StopIteration",
     "evalue": "10",
     "output_type": "error",
     "traceback": [
      "\u001b[0;31m---------------------------------------------------------------------------\u001b[0m",
      "\u001b[0;31mStopIteration\u001b[0m                             Traceback (most recent call last)",
      "\u001b[0;32m<ipython-input-64-b3b74534f6c0>\u001b[0m in \u001b[0;36m<module>\u001b[0;34m\u001b[0m\n\u001b[1;32m     35\u001b[0m \u001b[0mg\u001b[0m \u001b[0;34m=\u001b[0m \u001b[0mtest\u001b[0m\u001b[0;34m(\u001b[0m\u001b[0;34m)\u001b[0m\u001b[0;34m\u001b[0m\u001b[0;34m\u001b[0m\u001b[0m\n\u001b[1;32m     36\u001b[0m \u001b[0mprint\u001b[0m\u001b[0;34m(\u001b[0m\u001b[0mg\u001b[0m\u001b[0;34m.\u001b[0m\u001b[0m__next__\u001b[0m\u001b[0;34m(\u001b[0m\u001b[0;34m)\u001b[0m\u001b[0;34m)\u001b[0m\u001b[0;34m\u001b[0m\u001b[0;34m\u001b[0m\u001b[0m\n\u001b[0;32m---> 37\u001b[0;31m \u001b[0mprint\u001b[0m\u001b[0;34m(\u001b[0m\u001b[0mg\u001b[0m\u001b[0;34m.\u001b[0m\u001b[0m__next__\u001b[0m\u001b[0;34m(\u001b[0m\u001b[0;34m)\u001b[0m\u001b[0;34m)\u001b[0m\u001b[0;34m\u001b[0m\u001b[0;34m\u001b[0m\u001b[0m\n\u001b[0m",
      "\u001b[0;31mStopIteration\u001b[0m: 10"
     ]
    }
   ],
   "source": [
    "# note：\n",
    "'''\n",
    "碰到return\n",
    "'''\n",
    "# def test():\n",
    "#     yield 1\n",
    "#     print('a')\n",
    "    \n",
    "#     yield 2\n",
    "#     print('b')\n",
    "    \n",
    "#     yield 3\n",
    "#     print('c')\n",
    "    \n",
    "#     return 10\n",
    "\n",
    "# g = test()\n",
    "# print(g.__next__())\n",
    "# print(g.__next__())\n",
    "# print(g.__next__())\n",
    "# print(g.__next__())\n",
    "def test():\n",
    "    yield 1\n",
    "    print('a')\n",
    "    return 10\n",
    "    \n",
    "    yield 2\n",
    "    print('b')\n",
    "    \n",
    "    yield 3\n",
    "    print('c')\n",
    "    \n",
    "    \n",
    "\n",
    "g = test()\n",
    "print(g.__next__())\n",
    "print(g.__next__()) # 碰到return就停止，报错"
   ]
  },
  {
   "cell_type": "code",
   "execution_count": 70,
   "metadata": {},
   "outputs": [
    {
     "name": "stdout",
     "output_type": "stream",
     "text": [
      "1\n",
      "a\n",
      "2\n",
      "b\n",
      "3\n",
      "c\n",
      "------------------------------\n",
      "\n",
      "******************************\n",
      "1\n",
      "a\n",
      "2\n",
      "b\n",
      "3\n",
      "c\n"
     ]
    }
   ],
   "source": [
    "# 2.生成器只会遍历一次，同迭代器\n",
    "def test():\n",
    "    yield 1\n",
    "    print('a')\n",
    "    \n",
    "    yield 2\n",
    "    print('b')\n",
    "    \n",
    "    yield 3\n",
    "    print('c')\n",
    "    \n",
    "g = test()\n",
    "for i in g: # for in 遍历生成器\n",
    "    print(i)\n",
    "    \n",
    "print('-'*30)\n",
    "for i in g:  # 生成器能迭代一次\n",
    "    print(i)\n",
    "\n",
    "print('')\n",
    "print('*'*30)\n",
    "g = test() # 再生成一次\n",
    "for i in g: \n",
    "    print(i)"
   ]
  },
  {
   "cell_type": "markdown",
   "metadata": {},
   "source": [
    "# 递归函数"
   ]
  },
  {
   "cell_type": "code",
   "execution_count": 72,
   "metadata": {},
   "outputs": [
    {
     "name": "stdout",
     "output_type": "stream",
     "text": [
      "120\n"
     ]
    }
   ],
   "source": [
    "# 体现：函数A内部继续调用A\n",
    "# 概念：传递，\n",
    "# 案例：9!=9*8!=9*8*7!...\n",
    "\n",
    "# 如果是不直接知道结果的数据,就进行分解...\n",
    "# 如果是直接知道结果的数据，return\n",
    "def jc(n):\n",
    "    if n==1:\n",
    "        return 1\n",
    "    return n*jc(n-1)\n",
    "print(jc(5))"
   ]
  },
  {
   "cell_type": "markdown",
   "metadata": {},
   "source": [
    "# 函数作用域"
   ]
  },
  {
   "cell_type": "code",
   "execution_count": null,
   "metadata": {},
   "outputs": [],
   "source": [
    "# 局部变量：函数内部定义的， 查看局部变量：locals()"
   ]
  },
  {
   "cell_type": "code",
   "execution_count": 76,
   "metadata": {},
   "outputs": [
    {
     "name": "stdout",
     "output_type": "stream",
     "text": [
      "2\n",
      "2\n"
     ]
    }
   ],
   "source": [
    "def test():\n",
    "    a=1\n",
    "    a=2\n",
    "    print(a)\n",
    "    def test2():\n",
    "        print(a) # 访问从内到外\n",
    "    test2()\n",
    "    \n",
    "test()\n",
    "# print(a) # 不能访问内部的变量"
   ]
  },
  {
   "cell_type": "code",
   "execution_count": 79,
   "metadata": {},
   "outputs": [
    {
     "name": "stdout",
     "output_type": "stream",
     "text": [
      "1\n",
      "10\n",
      "1\n"
     ]
    }
   ],
   "source": [
    "a = 999\n",
    "def test():\n",
    "    a = 1\n",
    "    print(a)\n",
    "    def test2():\n",
    "        a =10\n",
    "        print(a) \n",
    "    test2()\n",
    "    print(a) # 不能修改外层变量\n",
    "    \n",
    "test()"
   ]
  },
  {
   "cell_type": "code",
   "execution_count": 81,
   "metadata": {},
   "outputs": [
    {
     "name": "stdout",
     "output_type": "stream",
     "text": [
      "1\n",
      "10\n",
      "10\n"
     ]
    }
   ],
   "source": [
    "a = 999\n",
    "def test():\n",
    "    a = 1\n",
    "    print(a)\n",
    "    def test2():\n",
    "        nonlocal a\n",
    "        a =10 # 自己内部新定义的，优先选近的，就近找\n",
    "        print(a) \n",
    "    test2()\n",
    "    print(a) # nonlocal,修改外层变量\n",
    "    \n",
    "test()"
   ]
  },
  {
   "cell_type": "raw",
   "metadata": {},
   "source": []
  },
  {
   "cell_type": "code",
   "execution_count": null,
   "metadata": {},
   "outputs": [],
   "source": [
    "# 全局变量： globals()"
   ]
  },
  {
   "cell_type": "code",
   "execution_count": 85,
   "metadata": {},
   "outputs": [
    {
     "name": "stdout",
     "output_type": "stream",
     "text": [
      "999\n",
      "6\n",
      "999\n"
     ]
    }
   ],
   "source": [
    "a = 999\n",
    "def test():\n",
    "    # 这里如果直接复制代表新定义一个变量\n",
    "    a = 6\n",
    "    print(a)\n",
    "    \n",
    "print(a)    \n",
    "test()\n",
    "print(a) "
   ]
  },
  {
   "cell_type": "code",
   "execution_count": 86,
   "metadata": {},
   "outputs": [
    {
     "ename": "SyntaxError",
     "evalue": "no binding for nonlocal 'a' found (<ipython-input-86-9965062375c1>, line 3)",
     "output_type": "error",
     "traceback": [
      "\u001b[0;36m  File \u001b[0;32m\"<ipython-input-86-9965062375c1>\"\u001b[0;36m, line \u001b[0;32m3\u001b[0m\n\u001b[0;31m    nonlocal a\u001b[0m\n\u001b[0m    ^\u001b[0m\n\u001b[0;31mSyntaxError\u001b[0m\u001b[0;31m:\u001b[0m no binding for nonlocal 'a' found\n"
     ]
    }
   ],
   "source": [
    "a = 999\n",
    "def test():\n",
    "    nonlocal a # 仅仅适用于闭包，访问外层函数变量时，这里是改变外局全局变量\n",
    "    a = 6\n",
    "    print(a)\n",
    "    \n",
    "print(a)    \n",
    "test()\n",
    "print(a) "
   ]
  },
  {
   "cell_type": "code",
   "execution_count": 94,
   "metadata": {},
   "outputs": [
    {
     "name": "stdout",
     "output_type": "stream",
     "text": [
      "999\n",
      "6\n",
      "{'b': 3}\n",
      "6\n"
     ]
    }
   ],
   "source": [
    "g_a = 999 # 全局变量写在程序最上面\n",
    "\n",
    "def test():\n",
    "    global g_a # a是全局变量\n",
    "    g_a = 6\n",
    "    b = 3\n",
    "    print(g_a)\n",
    "    print(locals())\n",
    "    # print(globals())\n",
    "print(g_a)    \n",
    "test()\n",
    "print(g_a) \n"
   ]
  },
  {
   "cell_type": "code",
   "execution_count": null,
   "metadata": {},
   "outputs": [],
   "source": []
  }
 ],
 "metadata": {
  "kernelspec": {
   "display_name": "Python 3",
   "language": "python",
   "name": "python3"
  },
  "language_info": {
   "codemirror_mode": {
    "name": "ipython",
    "version": 3
   },
   "file_extension": ".py",
   "mimetype": "text/x-python",
   "name": "python",
   "nbconvert_exporter": "python",
   "pygments_lexer": "ipython3",
   "version": "3.7.4"
  },
  "toc": {
   "base_numbering": 1,
   "nav_menu": {},
   "number_sections": true,
   "sideBar": true,
   "skip_h1_title": false,
   "title_cell": "Table of Contents",
   "title_sidebar": "Contents",
   "toc_cell": false,
   "toc_position": {
    "height": "calc(100% - 180px)",
    "left": "10px",
    "top": "150px",
    "width": "206.797px"
   },
   "toc_section_display": true,
   "toc_window_display": true
  }
 },
 "nbformat": 4,
 "nbformat_minor": 2
}
