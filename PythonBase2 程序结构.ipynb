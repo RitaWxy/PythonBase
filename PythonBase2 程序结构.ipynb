{
 "cells": [
  {
   "cell_type": "markdown",
   "metadata": {},
   "source": [
    "# 程序执行顺序"
   ]
  },
  {
   "cell_type": "code",
   "execution_count": null,
   "metadata": {},
   "outputs": [],
   "source": [
    "# 从上到下\n",
    "# 分支\n",
    "# 循环\n",
    "# 注意，有些语言有类似goto语句"
   ]
  },
  {
   "cell_type": "markdown",
   "metadata": {},
   "source": [
    "# 分支"
   ]
  },
  {
   "cell_type": "code",
   "execution_count": 1,
   "metadata": {},
   "outputs": [
    {
     "name": "stdout",
     "output_type": "stream",
     "text": [
      "B\n"
     ]
    }
   ],
   "source": [
    "'''\n",
    "# 单分支判断，多分支判断，if嵌套\n",
    "# 注意缩进,代码块\n",
    "'''\n",
    "grade = 87\n",
    "if 90<= grade <=100:\n",
    "    print('A')\n",
    "elif 80<=grade<90:\n",
    "    print('B')\n",
    "elif 60<=grade<80:\n",
    "    print('C')\n",
    "else:\n",
    "    print('F')\n",
    "        "
   ]
  },
  {
   "cell_type": "code",
   "execution_count": 2,
   "metadata": {},
   "outputs": [
    {
     "name": "stdout",
     "output_type": "stream",
     "text": [
      "Please input your gender (male:1, female:0):1\n",
      "Please input your height in (m):1.7\n",
      "Please input your weight in (kg):60\n",
      "Please input your age:24\n",
      "Hello,sir. Your fat rate equals to 14.233494809688583, doesn't meet the standard.\n",
      "You're overweight.\n"
     ]
    }
   ],
   "source": [
    "'''\n",
    "#优化体脂率练习\n",
    "# 小结——体脂率分析\n",
    "'''\n",
    "\n",
    "# Input the datas\n",
    "gender = int(input('Please input your gender (male:1, female:0):')) # input gender\n",
    "height = float(input('Please input your height in (m):')) # input height\n",
    "weight = float(input('Please input your weight in (kg):')) # input weight\n",
    "age = int(input('Please input your age:')) # input age\n",
    "\n",
    "# Judge if there's error in the inputs\n",
    "if not(0<height<3 and 0< weight<300 and 0<age<150 and (gender in (0,1))):\n",
    "    print('There\\'s error in you inputs.')\n",
    "\n",
    "else: \n",
    "    # calculat body fat rate\n",
    "    BMI = weight/height**2\n",
    "    FatRate = 1.2*BMI + 0.23*age - 5.4 - 10.8*gender\n",
    "\n",
    "\n",
    "   # Estimate the body situation\n",
    "    if gender: # male\n",
    "        personSex = 'Hello,sir.'\n",
    "        result = 0.15<=FatRate<=0.18\n",
    "        minRate = 0.15\n",
    "        maxRate = 0.18\n",
    "    else: # female\n",
    "        personSex = 'Hello,madam.'\n",
    "        result = 0.25<=FatRate<=0.28\n",
    "        minRate = 0.25\n",
    "        maxRate = 0.28\n",
    "        \n",
    "    # Draw the conclusion    \n",
    "    if result:\n",
    "        conclusion = ', meets the standard.'\n",
    "    else:\n",
    "        conclusion = ', doesn\\'t meet the standard.'\n",
    "        if FatRate>maxRate:\n",
    "            notice = 'You\\'re overweight.'\n",
    "        elif FatRate<minRate:\n",
    "            notice = 'You\\'re rather thin'\n",
    "    # Output\n",
    "    print(personSex + ' Your fat rate equals to {}'.format(FatRate) +conclusion)\n",
    "    print(notice)\n",
    "            "
   ]
  },
  {
   "cell_type": "code",
   "execution_count": null,
   "metadata": {},
   "outputs": [],
   "source": []
  },
  {
   "cell_type": "markdown",
   "metadata": {},
   "source": [
    "# 循环"
   ]
  },
  {
   "cell_type": "markdown",
   "metadata": {},
   "source": [
    "## while 循环"
   ]
  },
  {
   "cell_type": "code",
   "execution_count": null,
   "metadata": {},
   "outputs": [],
   "source": [
    "'''\n",
    "while 条件：\n",
    "    条件满足时的代码\n",
    "    ...\n",
    "    (执行完回上去判断条件，直到不满足往下)\n",
    "else: # 可无\n",
    "    aaaa\n",
    "    \n",
    "另:条件满足时的代码中break, continue，aaaa不会执行\n",
    "'''"
   ]
  },
  {
   "cell_type": "code",
   "execution_count": 17,
   "metadata": {},
   "outputs": [
    {
     "name": "stdout",
     "output_type": "stream",
     "text": [
      "*****************\n",
      "Please input an integer between 0 and 9:7\n",
      "Your guess is too big\n",
      "The right answer is 0.\n",
      "You have other 4 chance.\n",
      "*****************\n",
      "Please input an integer between 0 and 9:8\n",
      "Your guess is too big\n",
      "The right answer is 4.\n",
      "You have other 3 chance.\n",
      "*****************\n",
      "Please input an integer between 0 and 9:6\n",
      "Your guess is too small\n",
      "The right answer is 7.\n",
      "You have other 2 chance.\n",
      "*****************\n",
      "Please input an integer between 0 and 9:4\n",
      "Congratulations on your answer!\n"
     ]
    }
   ],
   "source": [
    "# Exercise 1 猜数字\n",
    "import random\n",
    "\n",
    "i=0\n",
    "while i<=4:\n",
    "    print('*****************')\n",
    "    num = int(input('Please input an integer between 0 and 9:'))\n",
    "    xNum = random.randint(0,9)\n",
    "    x = 4-i\n",
    "    if num == xNum:\n",
    "        print('Congratulations on your answer!')\n",
    "        break\n",
    "    elif num>xNum:\n",
    "        print('''Your guess is too big\\nThe right answer is %d.\\nYou have other %d chance.'''%(xNum,x))\n",
    "    elif num<xNum:\n",
    "        print('''Your guess is too small\\nThe right answer is %d.\\nYou have other %d chance.'''%(xNum,x))\n",
    "    i +=1  "
   ]
  },
  {
   "cell_type": "markdown",
   "metadata": {},
   "source": [
    "## for 循环"
   ]
  },
  {
   "cell_type": "code",
   "execution_count": null,
   "metadata": {},
   "outputs": [],
   "source": [
    "'''\n",
    "for x in xxx\n",
    "    循环语句\n",
    "else: #可无\n",
    "   aaaa\n",
    "   \n",
    "# x遍历集合xxx\n",
    "# 循环语句中用到break,则不会执行aaaa\n",
    "# range(min,max+1[,step]) min到max\n",
    "\n",
    "'''"
   ]
  },
  {
   "cell_type": "code",
   "execution_count": 19,
   "metadata": {},
   "outputs": [
    {
     "name": "stdout",
     "output_type": "stream",
     "text": [
      ".nohtyP evol I\n"
     ]
    }
   ],
   "source": [
    "# Exercise 1\n",
    "# 字符串反转\n",
    "result = ''\n",
    "note = 'I love Python.'\n",
    "for i in note: # i 遍历 note\n",
    "    result = i + result # 字符串拼接，result +=i 则是加在后面\n",
    "print(result)"
   ]
  },
  {
   "cell_type": "code",
   "execution_count": 23,
   "metadata": {},
   "outputs": [
    {
     "name": "stdout",
     "output_type": "stream",
     "text": [
      "2\n",
      "4\n",
      "6\n",
      "8\n",
      "10\n"
     ]
    }
   ],
   "source": [
    "# Exercise 2\n",
    "# 打印1-100的偶数\n",
    "for i in range(1,11):\n",
    "    if i%2 == 0:\n",
    "        print(i)\n",
    "        "
   ]
  },
  {
   "cell_type": "code",
   "execution_count": null,
   "metadata": {},
   "outputs": [],
   "source": [
    "'''\n",
    "break continue案例\n",
    "'''"
   ]
  },
  {
   "cell_type": "code",
   "execution_count": 28,
   "metadata": {},
   "outputs": [
    {
     "name": "stdout",
     "output_type": "stream",
     "text": [
      "Please input the first number: 3\n",
      "Please input the second number: 5\n",
      "result = 8.0\n",
      "Quit or not(Y/N):a\n",
      "Please input the first number: 2\n",
      "Please input the second number: 6\n",
      "result = 8.0\n",
      "Quit or not(Y/N):Y\n"
     ]
    }
   ],
   "source": [
    "# 加法计算器，用户输入两个数\n",
    "#要求用户不退出，则算完接着用\n",
    "#输入有误，则给出提示然后从头开始，用户重新输入\n",
    "\n",
    "while True:\n",
    "    # Input data\n",
    "    num1 = input('Please input the first number: ')\n",
    "    num2 = input('Please input the second number: ')\n",
    "\n",
    "    result = float(num1)+float(num2)\n",
    "    print('result =',result)\n",
    "    quit = input('Quit or not(Y/N):')\n",
    "    if quit == 'Y':\n",
    "        break\n",
    "    "
   ]
  },
  {
   "cell_type": "markdown",
   "metadata": {},
   "source": [
    "##  循环分支嵌套案例"
   ]
  },
  {
   "cell_type": "code",
   "execution_count": 36,
   "metadata": {},
   "outputs": [
    {
     "name": "stdout",
     "output_type": "stream",
     "text": [
      "1*1=1\t \n",
      "1*2=2\t2*2=4\t \n",
      "1*3=3\t2*3=6\t3*3=9\t \n",
      "1*4=4\t2*4=8\t3*4=12\t4*4=16\t \n",
      "1*5=5\t2*5=10\t3*5=15\t4*5=20\t5*5=25\t \n",
      "1*6=6\t2*6=12\t3*6=18\t4*6=24\t5*6=30\t6*6=36\t \n",
      "1*7=7\t2*7=14\t3*7=21\t4*7=28\t5*7=35\t6*7=42\t7*7=49\t \n",
      "1*8=8\t2*8=16\t3*8=24\t4*8=32\t5*8=40\t6*8=48\t7*8=56\t8*8=64\t \n",
      "1*9=9\t2*9=18\t3*9=27\t4*9=36\t5*9=45\t6*9=54\t7*9=63\t8*9=72\t9*9=81\t \n"
     ]
    }
   ],
   "source": [
    "# Exercise 1 九九乘法表\n",
    "for i in range(1,10):\n",
    "    for j in range(1,i+1):\n",
    "        num = i*j\n",
    "        print('{}*{}={}'.format(j,i,num),end = '\\t')\n",
    "    print(' ')"
   ]
  },
  {
   "cell_type": "code",
   "execution_count": 37,
   "metadata": {},
   "outputs": [],
   "source": [
    "'''\n",
    "Pass语句\n",
    "# 空语句，不做任何事，一般用作占位语句\n",
    "# 为了保持程序结构完整性\n",
    "'''\n",
    "if True:\n",
    "    pass # 目前不知道做什么，先写个pass保证程序完整"
   ]
  },
  {
   "cell_type": "code",
   "execution_count": 3,
   "metadata": {},
   "outputs": [
    {
     "name": "stdout",
     "output_type": "stream",
     "text": [
      "Please input a three digit number:23\n",
      "Error.\n",
      "Please input a three digit number:153\n",
      "153 is Daffodil number\n",
      "Quit or not(Y/N):N\n",
      "Please input a three digit number:360\n",
      "360 is not Daffodil number\n",
      "Quit or not(Y/N):Y\n"
     ]
    }
   ],
   "source": [
    "# Exercise 2 判定输入的三位数是否是水仙花数\n",
    "#暂时不考虑非数字情况，涉及类型判断\n",
    "#水仙花数：百位^3 + 十位^3 + 个位^3 = 数本身\n",
    "\n",
    "\n",
    "while True:\n",
    "    num = input('Please input a three digit number:')\n",
    "    if len(num) != 3:  # if not(100<=(int(num))<=999):\n",
    "        print('Error.')\n",
    "        continue # exit()\n",
    "    else:\n",
    "        num = int(num)\n",
    "        # 百位 num // 100\n",
    "        # 十位 num % 100 // 10\n",
    "        # 个位 num % 10\n",
    "        result = ((num//100)**3 + ((num%100)//10)**3 +(num%10)**3) == num\n",
    "        if result:\n",
    "            print('{} is Daffodil number'.format(num))\n",
    "        else:\n",
    "            print('{} is not Daffodil number'.format(num))\n",
    "        \n",
    "        # Quit or not\n",
    "        flag = input('Quit or not(Y/N):')\n",
    "        if flag == 'Y':\n",
    "            break\n",
    "        else:\n",
    "            continue\n",
    "        \n"
   ]
  },
  {
   "cell_type": "code",
   "execution_count": null,
   "metadata": {},
   "outputs": [],
   "source": []
  }
 ],
 "metadata": {
  "kernelspec": {
   "display_name": "Python 3",
   "language": "python",
   "name": "python3"
  },
  "language_info": {
   "codemirror_mode": {
    "name": "ipython",
    "version": 3
   },
   "file_extension": ".py",
   "mimetype": "text/x-python",
   "name": "python",
   "nbconvert_exporter": "python",
   "pygments_lexer": "ipython3",
   "version": "3.7.4"
  },
  "toc": {
   "base_numbering": 1,
   "nav_menu": {},
   "number_sections": true,
   "sideBar": true,
   "skip_h1_title": false,
   "title_cell": "Table of Contents",
   "title_sidebar": "Contents",
   "toc_cell": false,
   "toc_position": {},
   "toc_section_display": true,
   "toc_window_display": true
  }
 },
 "nbformat": 4,
 "nbformat_minor": 2
}
